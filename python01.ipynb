{
 "cells": [
  {
   "cell_type": "code",
   "execution_count": 5,
   "id": "594f4502",
   "metadata": {},
   "outputs": [
    {
     "name": "stdout",
     "output_type": "stream",
     "text": [
      "hola mundo de python\n"
     ]
    }
   ],
   "source": [
    "print (\"hola mundo de python\") \n"
   ]
  },
  {
   "cell_type": "code",
   "execution_count": null,
   "id": "bd87613e",
   "metadata": {},
   "outputs": [],
   "source": [
    "# Python Fundamentos\n",
    "\n",
    "Este proyecto contiene ejemplos básicos de programación en Python, organizados en un Jupyter Notebook. Es ideal para quienes están comenzando a aprender Python y desean entender los conceptos fundamentales.\n",
    "\n",
    "## Contenido\n",
    "\n",
    "- **Variables**\n",
    "  - Definición y uso de variables\n",
    "  - Tipos de datos: strings, enteros, flotantes\n",
    "- **Listas**\n",
    "  - Creación y manipulación de listas\n",
    "  - Métodos comunes (`append`, `insert`, slicing)\n",
    "- **Tuplas**\n",
    "  - Definición y diferencias con listas\n",
    "- **Diccionarios**\n",
    "  - Creación y acceso a elementos\n",
    "  - Diccionarios anidados\n",
    "- **Operadores**\n",
    "  - Matemáticos: suma, resta, multiplicación, división\n",
    "  - Comparación: `==`, `!=`, `>`, `<`, `>=`, `<=`\n",
    "  - Lógicos: `and`, `or`, `not`\n",
    "- **Estructuras de control**\n",
    "  - Condicionales: `if`, `elif`, `else`\n",
    "  - Ciclos: `for`\n",
    "  - Ciclos anidados y condicionales compuestos\n",
    "- **Funciones**\n",
    "  - Definición y llamada de funciones\n",
    "  - Parámetros y documentación\n",
    "- **Ejercicios prácticos**\n",
    "  - Búsqueda en listas\n",
    "  - Saludos personalizados\n",
    "  - Operaciones matemáticas\n",
    "\n",
    "## Uso\n",
    "\n",
    "1. Abre el archivo `python01.ipynb` en Jupyter Notebook o Visual Studio Code.\n",
    "2. Ejecuta las celdas para ver ejemplos y resultados.\n",
    "3. Modifica el código para experimentar y aprender.\n",
    "\n",
    "## Requisitos\n",
    "\n",
    "- Python 3.x\n",
    "- Jupyter Notebook o Visual Studio Code\n",
    "\n",
    "## Autor\n",
    "\n",
    "José Castillo\n",
    "\n",
    "---\n",
    "\n",
    "Este repositorio es educativo y sirve como referencia para los conceptos básicos"
   ]
  },
  {
   "cell_type": "markdown",
   "id": "182a4bea",
   "metadata": {},
   "source": [
    "## Python fundamentos\n",
    "* Variables\n",
    "* Tipos de daos\n",
    "    - Strings\n",
    "    - Enteros\n",
    "    - Flotantes\n",
    "    - listas\n",
    "    - Direccionarios\n",
    "    - Tuplas\n",
    "\n",
    "* Operadores\n",
    "    - Matematicos\n",
    "    - Logicos\n",
    "    - Comparacion\n",
    "\n",
    "* Estructuras de control \n",
    "    - Condicionales \n",
    "    - Ciclos finitos\n",
    "    - Funciones \n",
    "    \n"
   ]
  },
  {
   "cell_type": "code",
   "execution_count": 2,
   "id": "17a83aa8",
   "metadata": {},
   "outputs": [],
   "source": [
    "# Variables \n",
    "\n",
    "name = \"José Castillo\"\n",
    "age = 30\n"
   ]
  },
  {
   "cell_type": "code",
   "execution_count": 9,
   "id": "2a152329",
   "metadata": {},
   "outputs": [
    {
     "data": {
      "text/plain": [
       "'amarillo'"
      ]
     },
     "execution_count": 9,
     "metadata": {},
     "output_type": "execute_result"
    }
   ],
   "source": [
    "name "
   ]
  },
  {
   "cell_type": "code",
   "execution_count": 5,
   "id": "a29e6e5c",
   "metadata": {},
   "outputs": [],
   "source": [
    "last_name = \"Castillo\""
   ]
  },
  {
   "cell_type": "code",
   "execution_count": 7,
   "id": "5df00785",
   "metadata": {},
   "outputs": [],
   "source": [
    "name = \"amarillo\""
   ]
  },
  {
   "cell_type": "markdown",
   "id": "5ff5ebfd",
   "metadata": {},
   "source": []
  },
  {
   "cell_type": "code",
   "execution_count": 8,
   "id": "c11102df",
   "metadata": {},
   "outputs": [
    {
     "data": {
      "text/plain": [
       "'amarillo'"
      ]
     },
     "execution_count": 8,
     "metadata": {},
     "output_type": "execute_result"
    }
   ],
   "source": [
    "name "
   ]
  },
  {
   "cell_type": "code",
   "execution_count": 5,
   "id": "94d1eddd",
   "metadata": {},
   "outputs": [
    {
     "name": "stdout",
     "output_type": "stream",
     "text": [
      "resultado de la multiplicación es: 50\n",
      "resultado de la división es: 2.0\n",
      "resultado de la resta es: 5\n",
      "resultado de la suma es: 15\n"
     ]
    }
   ],
   "source": [
    "# operadores matermáticos\n",
    "\n",
    "number1 = 10\n",
    "number2 = 5\n",
    "\n",
    "result = number1 + number2\n",
    "result_multiplication = number1 * number2\n",
    "result_division = number1 / number2\n",
    "result_subtraction = number1 - number2\n",
    "\n",
    "print(f\"resultado de la multiplicación es: {result_multiplication}\")\n",
    "print(f\"resultado de la división es: {result_division}\")\n",
    "print(f\"resultado de la resta es: {result_subtraction}\")        \n",
    "print(f\"resultado de la suma es: {result}\")\n"
   ]
  },
  {
   "cell_type": "code",
   "execution_count": null,
   "id": "ddd31174",
   "metadata": {},
   "outputs": [],
   "source": [
    "# operadores de comparacion \n",
    "\n",
    "# Comparacion de igualdad ==\n",
    "# Comparacion de desigualdad !=\n",
    "# Comparacion mayor que >\n",
    "# comparacion menor que \n",
    "# Compracion menor o igual \n",
    "# comparacion de mayor o igual \n"
   ]
  },
  {
   "cell_type": "code",
   "execution_count": 6,
   "id": "9d1b00b7",
   "metadata": {},
   "outputs": [
    {
     "data": {
      "text/plain": [
       "True"
      ]
     },
     "execution_count": 6,
     "metadata": {},
     "output_type": "execute_result"
    }
   ],
   "source": [
    "# condicinales simples \n",
    "\n",
    "3==3\n"
   ]
  },
  {
   "cell_type": "code",
   "execution_count": 7,
   "id": "50758423",
   "metadata": {},
   "outputs": [
    {
     "data": {
      "text/plain": [
       "False"
      ]
     },
     "execution_count": 7,
     "metadata": {},
     "output_type": "execute_result"
    }
   ],
   "source": [
    "3 != 3"
   ]
  },
  {
   "cell_type": "code",
   "execution_count": 8,
   "id": "30c217d1",
   "metadata": {},
   "outputs": [
    {
     "name": "stdout",
     "output_type": "stream",
     "text": [
      "La condicion es verdadera\n"
     ]
    }
   ],
   "source": [
    "#condicionale simples \n",
    "# if condicional : \n",
    "#   codigo a ejecutar si la condicion es verdadera\n",
    "\n",
    "if 3 == 3:\n",
    "    print(\"La condicion es verdadera\")"
   ]
  },
  {
   "cell_type": "code",
   "execution_count": 11,
   "id": "b86bc3f0",
   "metadata": {},
   "outputs": [
    {
     "name": "stdout",
     "output_type": "stream",
     "text": [
      "Hoy es lunes\n"
     ]
    }
   ],
   "source": [
    "day= \"lunes\"\n",
    "\n",
    "if day == \"lunes\":\n",
    "    print(\"Hoy es lunes\")   \n",
    "\n"
   ]
  },
  {
   "cell_type": "code",
   "execution_count": 12,
   "id": "7d54dc97",
   "metadata": {},
   "outputs": [
    {
     "name": "stdout",
     "output_type": "stream",
     "text": [
      "Hoy es lunes\n"
     ]
    }
   ],
   "source": [
    "day= \"lunes\"\n",
    "\n",
    "if day == \"lunes\":\n",
    "    print(\"Hoy es lunes\")   \n"
   ]
  },
  {
   "cell_type": "code",
   "execution_count": 14,
   "id": "22db7341",
   "metadata": {},
   "outputs": [
    {
     "name": "stdout",
     "output_type": "stream",
     "text": [
      "Hoy no es lunes\n"
     ]
    }
   ],
   "source": [
    "day = input(\"Ingrese el día de la semana: \")\n",
    "\n",
    "if day == \"lunes\":\n",
    "    print(\"Hoy es lunes\")\n",
    "\n",
    "else: \n",
    "    print(\"Hoy no es lunes\")\n",
    "\n"
   ]
  },
  {
   "cell_type": "code",
   "execution_count": 19,
   "id": "25e30021",
   "metadata": {},
   "outputs": [
    {
     "name": "stdout",
     "output_type": "stream",
     "text": [
      "Hoy no es un día de fin de semana\n"
     ]
    }
   ],
   "source": [
    "# condicionales encandenados para el fin de semana \n",
    "\n",
    "day = input(\"Ingrese el día de la semana: \")\n",
    "\n",
    "if day == \"sabado\":\n",
    "    print(\"Hoy es sábado\")\n",
    "\n",
    "elif day == \"domingo\":\n",
    "    print(\"Hoy es domingo\")\n",
    "\n",
    "else:\n",
    "    print(\"Hoy no es un día de fin de semana\")\n",
    "\n"
   ]
  },
  {
   "cell_type": "code",
   "execution_count": 18,
   "id": "1e71231c",
   "metadata": {},
   "outputs": [
    {
     "name": "stdout",
     "output_type": "stream",
     "text": [
      "Hoy es fin de semana\n"
     ]
    }
   ],
   "source": [
    "day = input(\"Ingrese el día de la semana: \")\n",
    "\n",
    "if day == \"sabado\" or day == \"domingo\":\n",
    "    print(\"Hoy es fin de semana\")\n",
    "\n",
    "else:\n",
    "    print(\"Hoy no es un día de fin de semana\")\n",
    "    "
   ]
  },
  {
   "cell_type": "code",
   "execution_count": 23,
   "id": "7891a52e",
   "metadata": {},
   "outputs": [
    {
     "name": "stdout",
     "output_type": "stream",
     "text": [
      "tengo que ir a clase\n"
     ]
    }
   ],
   "source": [
    "#condicioales anidados \n",
    "\n",
    "day = input(\"Ingrese el día de la semana: \")\n",
    "hora= input(\"Ingrese la hora (formato HH:MM): \")\n",
    "\n",
    "if day == \"sabado\":\n",
    "    if hora == \"03:00\":\n",
    "        print(\"tengo que ir a clase\")"
   ]
  },
  {
   "cell_type": "code",
   "execution_count": 25,
   "id": "2b54963e",
   "metadata": {},
   "outputs": [
    {
     "name": "stdout",
     "output_type": "stream",
     "text": [
      "no tengo clase hoy\n"
     ]
    }
   ],
   "source": [
    "day = input(\"Ingrese el día de la semana: \")\n",
    "hora= input(\"Ingrese la hora (formato HH:MM): \")\n",
    "\n",
    "if day == \"sabado\":\n",
    "    if hora == \"03:00\":\n",
    "        print(\"tengo que ir a clase\")\n",
    "    else:\n",
    "        print(\"no tengo clase a esa hora\")\n",
    "\n",
    "else:\n",
    "    print(\"no tengo clase hoy\")\n"
   ]
  },
  {
   "cell_type": "code",
   "execution_count": null,
   "id": "572428a5",
   "metadata": {},
   "outputs": [
    {
     "name": "stdout",
     "output_type": "stream",
     "text": [
      "no tengo clase a esa hora\n"
     ]
    }
   ],
   "source": [
    "day = input(\"Ingrese el día de la semana: \")\n",
    "\n",
    "if day == \"sabado\":\n",
    "    hora= input(\"Ingrese la hora (formato HH:MM): \")\n",
    "    if hora == \"03:00\":\n",
    "        print(\"tengo que ir a clase\")\n",
    "    else:\n",
    "        print(\"no tengo clase a esa hora\")\n",
    "\n",
    "else:\n",
    "    print(\"no tengo clase hoy\")\n",
    "    "
   ]
  },
  {
   "cell_type": "code",
   "execution_count": 30,
   "id": "f0f974c9",
   "metadata": {},
   "outputs": [
    {
     "name": "stdout",
     "output_type": "stream",
     "text": [
      "no tengo clase hoy\n"
     ]
    }
   ],
   "source": [
    "day = input(\"Ingrese el día de la semana: \")\n",
    "hora= input(\"Ingrese la hora (formato HH:MM): \")\n",
    "\n",
    "if (day == \"sabado\") and (hora== \"03:00\"):\n",
    "    print(\"hoy es sabado y tengo que ir a clases\")\n",
    "\n",
    "else:\n",
    "    print(\"no tengo clase hoy\")\n"
   ]
  },
  {
   "cell_type": "code",
   "execution_count": 44,
   "id": "5a7f196e",
   "metadata": {},
   "outputs": [],
   "source": [
    "# Operadores de comparación\n",
    "\n",
    "names= [\"Juan\", \"Maria\", \"Pedro\", \"Ana\"]   #string \n",
    "ages = [25, 30, 22, 28] # enteros\n",
    "pesos= [70.5, 60.2, 80.1, 55.0] # flotantes"
   ]
  },
  {
   "cell_type": "code",
   "execution_count": null,
   "id": "eccbf3cd",
   "metadata": {},
   "outputs": [
    {
     "data": {
      "text/plain": [
       "'Amarillo'"
      ]
     },
     "execution_count": 33,
     "metadata": {},
     "output_type": "execute_result"
    }
   ],
   "source": [
    "# Segun el tipo de datos podemos aplicarles metodos en python: lo metodos son tareas tipicas que podemos realizar con los datos\n",
    "# cuales son los metodos que podemos usar? \n",
    "# sugun los tipos de datos \n",
    "\n",
    "last_name= \"Amarillo\"\n",
    "last_name.lower()  # convierte a minúsculas\n",
    "last_name.upper()  # convierte a mayúsculas\n",
    "last_name.title()  # convierte a mayúsculas la primera letra de cada palabra\n",
    "last_name.strip()  # elimina espacios al inicio y al final\n"
   ]
  },
  {
   "cell_type": "code",
   "execution_count": 39,
   "id": "e5c0a85b",
   "metadata": {},
   "outputs": [
    {
     "data": {
      "text/plain": [
       "'Amarill'"
      ]
     },
     "execution_count": 39,
     "metadata": {},
     "output_type": "execute_result"
    }
   ],
   "source": [
    "last_name = \"Amarillo\"\n",
    "\n",
    "last_name[0:7]  #se imprime una porcion del string\n"
   ]
  },
  {
   "cell_type": "code",
   "execution_count": null,
   "id": "06f63e13",
   "metadata": {},
   "outputs": [
    {
     "data": {
      "text/plain": [
       "['Juan', 'Maria']"
      ]
     },
     "execution_count": 50,
     "metadata": {},
     "output_type": "execute_result"
    }
   ],
   "source": [
    "names= [\"Juan\", \"Maria\", \"Pedro\", \"Ana\"]   #string \n",
    "\n",
    "names[0:2]\n"
   ]
  },
  {
   "cell_type": "code",
   "execution_count": null,
   "id": "cb7e0b49",
   "metadata": {},
   "outputs": [
    {
     "data": {
      "text/plain": [
       "['Juan', 'Carlos', 'Maria', 'Pedro', 'Ana', 'Luis']"
      ]
     },
     "execution_count": 54,
     "metadata": {},
     "output_type": "execute_result"
    }
   ],
   "source": [
    "#las listas tambien las podemos conseguir de la siguiente manera\n",
    "names= [\n",
    "    \"Juan\", \n",
    "    \"Maria\", \n",
    "    \"Pedro\", \n",
    "    \"Ana\"]\n",
    "\n",
    "names.append(\"Luis\")  #agrega un elemento al final de la lista\n",
    "names.insert(1, \"Carlos\")  #inserta un elemento en la posición 1\n",
    "\n",
    "names\n"
   ]
  },
  {
   "cell_type": "code",
   "execution_count": null,
   "id": "6427cd82",
   "metadata": {},
   "outputs": [
    {
     "data": {
      "text/plain": [
       "['Juan', 'Carlos', 'Maria', 'Pedro', 'Ana']"
      ]
     },
     "execution_count": 60,
     "metadata": {},
     "output_type": "execute_result"
    }
   ],
   "source": [
    "\n",
    "names= [\"Juan\", \"Maria\", \"Pedro\", \"Ana\"]\n",
    "names.insert(1, \"Carlos\")\n",
    "\n",
    "names "
   ]
  },
  {
   "cell_type": "code",
   "execution_count": 61,
   "id": "7230fe57",
   "metadata": {},
   "outputs": [
    {
     "data": {
      "text/plain": [
       "['Juan', 'Carlos', 'Maria', 'Pedro', 'Ana']"
      ]
     },
     "execution_count": 61,
     "metadata": {},
     "output_type": "execute_result"
    }
   ],
   "source": [
    "names"
   ]
  },
  {
   "cell_type": "code",
   "execution_count": 64,
   "id": "9813f8db",
   "metadata": {},
   "outputs": [
    {
     "data": {
      "text/plain": [
       "['Luis', 'Carlos', 'Maria', 'Pedro', 'Ana']"
      ]
     },
     "execution_count": 64,
     "metadata": {},
     "output_type": "execute_result"
    }
   ],
   "source": [
    "names[0:1]  = [\"Luis\"]\n",
    "names"
   ]
  },
  {
   "cell_type": "code",
   "execution_count": null,
   "id": "4b1fa806",
   "metadata": {},
   "outputs": [],
   "source": [
    "# tuplas: son simiilares a las listas pero son inmutables es decir no se pueden modificar es y van entre parentesis\n",
    "names_tuplas = (\"Juan\", \"Maria\", \"Pedro\", \"Ana\")"
   ]
  },
  {
   "cell_type": "code",
   "execution_count": 65,
   "id": "933b2e22",
   "metadata": {},
   "outputs": [
    {
     "data": {
      "text/plain": [
       "['Luis', 'Carlos', 'Maria', 'Pedro', 'Ana']"
      ]
     },
     "execution_count": 65,
     "metadata": {},
     "output_type": "execute_result"
    }
   ],
   "source": [
    "names"
   ]
  },
  {
   "cell_type": "code",
   "execution_count": null,
   "id": "a345bde3",
   "metadata": {},
   "outputs": [],
   "source": [
    "# tuplas conmueros y caracteres\n",
    "\n",
    "tuple_2 = (20, \"pedro\", 21.7)\n"
   ]
  },
  {
   "cell_type": "code",
   "execution_count": 68,
   "id": "fbf215a9",
   "metadata": {},
   "outputs": [
    {
     "data": {
      "text/plain": [
       "{'nombre': 'jose',\n",
       " 'edad': 30,\n",
       " 'peso': 90.89,\n",
       " 'comidas': ['pizza', 'hamburguesa', 'ensalada']}"
      ]
     },
     "execution_count": 68,
     "metadata": {},
     "output_type": "execute_result"
    }
   ],
   "source": [
    "# DICCIONARIOS \n",
    "\n",
    "dict1= {\n",
    "    \"nombre\": \"jose\",\n",
    "    \"edad\":30,\n",
    "    \"peso\": 90.89,\n",
    "    \"comidas\": [\"pizza\", \"hamburguesa\", \"ensalada\"] \n",
    "}\n",
    "\n",
    "dict1\n"
   ]
  },
  {
   "cell_type": "code",
   "execution_count": null,
   "id": "4c789f44",
   "metadata": {},
   "outputs": [
    {
     "data": {
      "text/plain": [
       "['pizza', 'hamburguesa', 'ensalada']"
      ]
     },
     "execution_count": 72,
     "metadata": {},
     "output_type": "execute_result"
    }
   ],
   "source": [
    "# DICCIONARIOS \n",
    "\n",
    "dict1= {\n",
    "    \"nombre\": \"jose\",\n",
    "    \"edad\":30,\n",
    "    \"peso\": 90.89,\n",
    "    \"comidas\": [\"pizza\", \"hamburguesa\", \"ensalada\"],\n",
    "    \"claves\": {git \n",
    "                \"correo\": 1234,\n",
    "                \"netflix\": \"clave\"\n",
    "                }\n",
    "}\n",
    "\n",
    "dict1 [\"comidas\"]"
   ]
  },
  {
   "cell_type": "code",
   "execution_count": 2,
   "id": "85529acf",
   "metadata": {},
   "outputs": [
    {
     "name": "stdout",
     "output_type": "stream",
     "text": [
      "Juan\n",
      "Maria\n",
      "Pedro\n",
      "Ana\n"
     ]
    }
   ],
   "source": [
    "#CICLO FOR \n",
    "names= [\"Juan\", \"Maria\", \"Pedro\", \"Ana\"]\n",
    "for variable in names:\n",
    "    print(variable)\n",
    "\n"
   ]
  },
  {
   "cell_type": "code",
   "execution_count": null,
   "id": "096b0299",
   "metadata": {},
   "outputs": [],
   "source": []
  },
  {
   "cell_type": "code",
   "execution_count": null,
   "id": "797cdfdb",
   "metadata": {},
   "outputs": [],
   "source": []
  },
  {
   "cell_type": "code",
   "execution_count": 25,
   "id": "ec96c885",
   "metadata": {},
   "outputs": [
    {
     "name": "stdout",
     "output_type": "stream",
     "text": [
      "Se encontró a Jose en la posicion 1\n"
     ]
    }
   ],
   "source": [
    "#buscr a jose en el conjunto de datos\n",
    "names= [\"Juan\", \"Jose\", \"Pedro\", \"Ana\"]\n",
    "\n",
    "for name in range (len (names)):\n",
    "    if names[name] == 'Jose':\n",
    "        print(f\"Se encontró a Jose en la posicion {name}\")\n",
    "        break\n",
    "\n"
   ]
  },
  {
   "cell_type": "code",
   "execution_count": 1,
   "id": "47c8c913",
   "metadata": {},
   "outputs": [],
   "source": [
    "# definieindo na funcion en python \n",
    "\n",
    "def saludos ():\n",
    "    print(\"Hola, ¿cómo estás?\")\n"
   ]
  },
  {
   "cell_type": "code",
   "execution_count": null,
   "id": "4b5d0154",
   "metadata": {},
   "outputs": [
    {
     "name": "stdout",
     "output_type": "stream",
     "text": [
      "Hola, ¿cómo estás?\n"
     ]
    }
   ],
   "source": [
    "saludos () #llamo la funcion que se definio previamente "
   ]
  },
  {
   "cell_type": "code",
   "execution_count": 6,
   "id": "ee24e5f8",
   "metadata": {},
   "outputs": [
    {
     "name": "stdout",
     "output_type": "stream",
     "text": [
      "Hola José, ¿cómo estás?\n"
     ]
    }
   ],
   "source": [
    "#funcion que salude a nombre en especico \n",
    "\n",
    "def saludos2 (name): #se utiliza un parametro cuando se construye la funcion \n",
    "    print(f\"Hola {name}, ¿cómo estás?\") #alcance de la funcion lo que quiero que haga la f es para agregar la variable a la cadena de texto\n",
    "\n",
    "saludos2(\"José\") #cuando se llama la funcion se le da un argumento para asignarlo a la vairable name"
   ]
  },
  {
   "cell_type": "code",
   "execution_count": 12,
   "id": "5b8a488c",
   "metadata": {},
   "outputs": [
    {
     "name": "stdout",
     "output_type": "stream",
     "text": [
      "Hola maria, ¿cómo estás?\n"
     ]
    }
   ],
   "source": [
    "def saludos3(name):\n",
    "    return print(f\"Hola {name}, ¿cómo estás?\")\n",
    "\n",
    "saludos3(\"maria\")"
   ]
  },
  {
   "cell_type": "code",
   "execution_count": null,
   "id": "065129d2",
   "metadata": {},
   "outputs": [
    {
     "data": {
      "text/plain": [
       "'Hola ALEJANDRO, ¿cómo estás?'"
      ]
     },
     "execution_count": 13,
     "metadata": {},
     "output_type": "execute_result"
    }
   ],
   "source": [
    "def saludos4(name):\n",
    "    name=name.upper()  # convierte todo a mayuscula\n",
    "    return f\"Hola {name}, ¿cómo estás?\"\n",
    "\n",
    "saludos4(\"alejandro\")"
   ]
  },
  {
   "cell_type": "code",
   "execution_count": 17,
   "id": "49c53116",
   "metadata": {},
   "outputs": [
    {
     "name": "stdout",
     "output_type": "stream",
     "text": [
      "Hola PEDRO, ¿cómo estás?\n"
     ]
    }
   ],
   "source": [
    "def saludos5(name: str) -> str:  # le digo que es un string con str\n",
    "    name=name.upper()  # convierte todo a mayuscula\n",
    "    return print(f\"Hola {name}, ¿cómo estás?\")\n",
    "\n",
    "saludos5(\"Pedro\")"
   ]
  },
  {
   "cell_type": "code",
   "execution_count": null,
   "id": "a9b415a6",
   "metadata": {},
   "outputs": [
    {
     "name": "stdout",
     "output_type": "stream",
     "text": [
      "Hola AUGUSTO, ¿cómo estás?\n"
     ]
    }
   ],
   "source": [
    "def saludos5(name: str) -> str:  # le digo que es un string con str\n",
    "    \"\"\"\n",
    "    documentacion: Esta funcion recibe un nombre y devuelve un saludo en mayusculas.\n",
    "    de esa manera cuando nos paramos sobre la funcion el ide te da mas informacion \n",
    "    \"\"\"\n",
    "    name=name.upper()  # convierte todo a mayuscula\n",
    "    return print(f\"Hola {name}, ¿cómo estás?\")\n",
    "\n",
    "saludos5(\"augusto\") \n",
    "\n"
   ]
  },
  {
   "cell_type": "code",
   "execution_count": 21,
   "id": "a46b5b9f",
   "metadata": {},
   "outputs": [
    {
     "name": "stdout",
     "output_type": "stream",
     "text": [
      "la suma es 8\n"
     ]
    }
   ],
   "source": [
    "def suma (number1, number2):\n",
    "    result = number1 + number2\n",
    "    return print(f\"la suma es {result}\")\n",
    "\n",
    "suma (5, 3)\n",
    "\n"
   ]
  },
  {
   "cell_type": "code",
   "execution_count": null,
   "id": "d36e674a",
   "metadata": {},
   "outputs": [
    {
     "name": "stdout",
     "output_type": "stream",
     "text": [
      "la suma es 2\n"
     ]
    }
   ],
   "source": [
    "def resta (number1, number2):\n",
    "    result = number1 - number2\n",
    "    return print(f\"la suma es {result}\")\n",
    "\n",
    "resta (5, 3) #pase de argumentos por posicion "
   ]
  },
  {
   "cell_type": "code",
   "execution_count": null,
   "id": "743e520c",
   "metadata": {},
   "outputs": [
    {
     "name": "stdout",
     "output_type": "stream",
     "text": [
      "la suma es -15\n"
     ]
    }
   ],
   "source": [
    "resta(number1=5, number2=20)"
   ]
  }
 ],
 "metadata": {
  "kernelspec": {
   "display_name": ".venv",
   "language": "python",
   "name": "python3"
  },
  "language_info": {
   "codemirror_mode": {
    "name": "ipython",
    "version": 3
   },
   "file_extension": ".py",
   "mimetype": "text/x-python",
   "name": "python",
   "nbconvert_exporter": "python",
   "pygments_lexer": "ipython3",
   "version": "3.13.5"
  }
 },
 "nbformat": 4,
 "nbformat_minor": 5
}
