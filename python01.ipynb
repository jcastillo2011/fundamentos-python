{
 "cells": [
  {
   "cell_type": "code",
   "execution_count": 5,
   "id": "594f4502",
   "metadata": {},
   "outputs": [
    {
     "name": "stdout",
     "output_type": "stream",
     "text": [
      "hola mundo de python\n"
     ]
    }
   ],
   "source": [
    "print (\"hola mundo de python\") \n"
   ]
  },
  {
   "cell_type": "markdown",
   "id": "182a4bea",
   "metadata": {},
   "source": [
    "## Python fundamentos\n",
    "* Variables\n",
    "* Tipos de daos\n",
    "    - Strings\n",
    "    - Enteros\n",
    "    - Flotantes\n",
    "    - listas\n",
    "    - Direccionarios\n",
    "    - Tuplas\n",
    "\n",
    "* Operadores\n",
    "    - Matematicos\n",
    "    - Logicos\n",
    "    - Comparacion\n",
    "\n",
    "* Estructuras de control \n",
    "    - Condicionales \n",
    "    - Ciclos finitos\n",
    "    - Funciones \n",
    "    \n"
   ]
  },
  {
   "cell_type": "code",
   "execution_count": 2,
   "id": "17a83aa8",
   "metadata": {},
   "outputs": [],
   "source": [
    "# Variables \n",
    "\n",
    "name = \"José Castillo\"\n",
    "age = 30\n"
   ]
  },
  {
   "cell_type": "code",
   "execution_count": 9,
   "id": "2a152329",
   "metadata": {},
   "outputs": [
    {
     "data": {
      "text/plain": [
       "'amarillo'"
      ]
     },
     "execution_count": 9,
     "metadata": {},
     "output_type": "execute_result"
    }
   ],
   "source": [
    "name "
   ]
  },
  {
   "cell_type": "code",
   "execution_count": 5,
   "id": "a29e6e5c",
   "metadata": {},
   "outputs": [],
   "source": [
    "last_name = \"Castillo\""
   ]
  },
  {
   "cell_type": "code",
   "execution_count": 7,
   "id": "5df00785",
   "metadata": {},
   "outputs": [],
   "source": [
    "name = \"amarillo\""
   ]
  },
  {
   "cell_type": "markdown",
   "id": "5ff5ebfd",
   "metadata": {},
   "source": []
  },
  {
   "cell_type": "code",
   "execution_count": 8,
   "id": "c11102df",
   "metadata": {},
   "outputs": [
    {
     "data": {
      "text/plain": [
       "'amarillo'"
      ]
     },
     "execution_count": 8,
     "metadata": {},
     "output_type": "execute_result"
    }
   ],
   "source": [
    "name "
   ]
  },
  {
   "cell_type": "code",
   "execution_count": 12,
   "id": "94d1eddd",
   "metadata": {},
   "outputs": [
    {
     "name": "stdout",
     "output_type": "stream",
     "text": [
      "resultado de la multiplicación es: 50\n",
      "resultado de la división es: 2.0\n",
      "resultado de la resta es: 5\n",
      "resultado de la suma es: 15\n"
     ]
    }
   ],
   "source": [
    "# operadores matermáticos\n",
    "\n",
    "number1 = 10\n",
    "number2 = 5\n",
    "\n",
    "result = number1 + number2\n",
    "result_multiplication = number1 * number2\n",
    "result_division = number1 / number2\n",
    "result_subtraction = number1 - number2\n",
    "\n",
    "print(f\"resultado de la multiplicación es: {result_multiplication}\")\n",
    "print(f\"resultado de la división es: {result_division}\")\n",
    "print(f\"resultado de la resta es: {result_subtraction}\")        \n",
    "print(f\"resultado de la suma es: {result}\")\n"
   ]
  }
 ],
 "metadata": {
  "kernelspec": {
   "display_name": ".venv",
   "language": "python",
   "name": "python3"
  },
  "language_info": {
   "codemirror_mode": {
    "name": "ipython",
    "version": 3
   },
   "file_extension": ".py",
   "mimetype": "text/x-python",
   "name": "python",
   "nbconvert_exporter": "python",
   "pygments_lexer": "ipython3",
   "version": "3.13.5"
  }
 },
 "nbformat": 4,
 "nbformat_minor": 5
}
